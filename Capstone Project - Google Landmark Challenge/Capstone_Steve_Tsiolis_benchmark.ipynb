{
 "cells": [
  {
   "cell_type": "markdown",
   "metadata": {},
   "source": [
    "<font size=\"5\">Udacity Machine Learning Nanodegree Capstone Project Benchmark Model</font>\n"
   ]
  },
  {
   "cell_type": "markdown",
   "metadata": {},
   "source": [
    "<font size=\"5\">Steve Tsiolis</font>"
   ]
  },
  {
   "cell_type": "markdown",
   "metadata": {},
   "source": [
    "<font size=\"5\">Download images</font>\n"
   ]
  },
  {
   "cell_type": "code",
   "execution_count": null,
   "metadata": {},
   "outputs": [],
   "source": [
    "#Using the download script supplied on the kaggle Google landmarks challenge\n",
    "from download_script import fetch\n",
    "#Download the image sets in the respective folders\n",
    "#For anyone running this - you can run it multiple times, it won't download something which is already downloaded\n",
    "train_pics = fetch('info/p_train.csv', 'Download_pic/train_set')\n",
    "validation_pics = fetch('info/p_validation.csv', 'Download_pic/validation_set')\n",
    "test_pics = fetch('info/p_test.csv', 'Download_pic/test_set')"
   ]
  },
  {
   "cell_type": "markdown",
   "metadata": {},
   "source": [
    "<font size=\"5\">Pre Processing Data</font>"
   ]
  },
  {
   "cell_type": "code",
   "execution_count": 2,
   "metadata": {},
   "outputs": [
    {
     "name": "stderr",
     "output_type": "stream",
     "text": [
      "Using TensorFlow backend.\n"
     ]
    },
    {
     "name": "stdout",
     "output_type": "stream",
     "text": [
      "Found 1067 images belonging to 140 classes.\n",
      "Found 277 images belonging to 140 classes.\n",
      "Found 277 images belonging to 140 classes.\n"
     ]
    }
   ],
   "source": [
    "#preprocessing \n",
    "from keras.preprocessing.image import ImageDataGenerator\n",
    "\n",
    "#Rescaling between [0,1] interval from [0,255]\n",
    "train_datagen = ImageDataGenerator(rescale=1. /255)\n",
    "\n",
    "#Creating generators noting with (224,224) target size\n",
    "train_generator = train_datagen.flow_from_directory('Download_pic/train_set/',target_size=(224, 224),batch_size=1)\n",
    "\n",
    "validation_generator = train_datagen.flow_from_directory('Download_pic/validation_set/',target_size=(224, 224),batch_size=1)\n",
    "\n",
    "test_generator = train_datagen.flow_from_directory('Download_pic/test_set/',target_size=(224, 224),batch_size=1)\n"
   ]
  },
  {
   "cell_type": "markdown",
   "metadata": {},
   "source": [
    "<font size=\"5\">Architecture</font>\n"
   ]
  },
  {
   "cell_type": "code",
   "execution_count": 3,
   "metadata": {},
   "outputs": [
    {
     "name": "stdout",
     "output_type": "stream",
     "text": [
      "_________________________________________________________________\n",
      "Layer (type)                 Output Shape              Param #   \n",
      "=================================================================\n",
      "conv2d_1 (Conv2D)            (None, 224, 224, 8)       104       \n",
      "_________________________________________________________________\n",
      "max_pooling2d_1 (MaxPooling2 (None, 112, 112, 8)       0         \n",
      "_________________________________________________________________\n",
      "conv2d_2 (Conv2D)            (None, 112, 112, 16)      528       \n",
      "_________________________________________________________________\n",
      "max_pooling2d_2 (MaxPooling2 (None, 56, 56, 16)        0         \n",
      "_________________________________________________________________\n",
      "conv2d_3 (Conv2D)            (None, 56, 56, 32)        2080      \n",
      "_________________________________________________________________\n",
      "max_pooling2d_3 (MaxPooling2 (None, 28, 28, 32)        0         \n",
      "_________________________________________________________________\n",
      "conv2d_4 (Conv2D)            (None, 28, 28, 64)        8256      \n",
      "_________________________________________________________________\n",
      "max_pooling2d_4 (MaxPooling2 (None, 14, 14, 64)        0         \n",
      "_________________________________________________________________\n",
      "dropout_1 (Dropout)          (None, 14, 14, 64)        0         \n",
      "_________________________________________________________________\n",
      "flatten_1 (Flatten)          (None, 12544)             0         \n",
      "_________________________________________________________________\n",
      "dense_1 (Dense)              (None, 140)               1756300   \n",
      "_________________________________________________________________\n",
      "dropout_2 (Dropout)          (None, 140)               0         \n",
      "_________________________________________________________________\n",
      "dense_2 (Dense)              (None, 140)               19740     \n",
      "=================================================================\n",
      "Total params: 1,787,008\n",
      "Trainable params: 1,787,008\n",
      "Non-trainable params: 0\n",
      "_________________________________________________________________\n"
     ]
    }
   ],
   "source": [
    "#Architecture taken from deep learning assignment\n",
    "from keras.layers import Conv2D, MaxPooling2D, GlobalAveragePooling2D\n",
    "from keras.layers import Dropout, Flatten, Dense\n",
    "from keras.models import Sequential\n",
    "\n",
    "model = Sequential()\n",
    "model.add(Conv2D(filters=8, kernel_size=2, padding='same',activation='relu',input_shape=(224,224,3)))\n",
    "model.add(MaxPooling2D(pool_size=2))\n",
    "\n",
    "model.add(Conv2D(filters=16, kernel_size=2, padding='same',activation='relu'))\n",
    "model.add(MaxPooling2D(pool_size=2))\n",
    "\n",
    "model.add(Conv2D(filters=32, kernel_size=2, padding='same',activation='relu'))\n",
    "model.add(MaxPooling2D(pool_size=2))\n",
    "\n",
    "model.add(Conv2D(filters=64, kernel_size=2, padding='same',activation='relu'))\n",
    "model.add(MaxPooling2D(pool_size=2))\n",
    "\n",
    "model.add(Dropout(0.3))\n",
    "model.add(Flatten())\n",
    "model.add(Dense(140,activation='relu'))\n",
    "model.add(Dropout(0.3))\n",
    "model.add(Dense(140,activation='softmax'))\n",
    "\n",
    "model.summary()"
   ]
  },
  {
   "cell_type": "markdown",
   "metadata": {},
   "source": [
    "<font size=\"5\">Compile and train the model</font>\n"
   ]
  },
  {
   "cell_type": "code",
   "execution_count": 4,
   "metadata": {},
   "outputs": [],
   "source": [
    "#Compile model\n",
    "model.compile(loss='categorical_crossentropy', optimizer='rmsprop', metrics=['accuracy'])"
   ]
  },
  {
   "cell_type": "code",
   "execution_count": 5,
   "metadata": {},
   "outputs": [
    {
     "name": "stdout",
     "output_type": "stream",
     "text": [
      "Epoch 1/50\n",
      "1065/1067 [============================>.] - ETA: 0s - loss: 4.9703 - acc: 0.0047Epoch 00001: val_acc improved from -inf to 0.00722, saving model to saved_models/weights.best.benchmark.hdf5\n",
      "1067/1067 [==============================] - 39s 36ms/step - loss: 4.9703 - acc: 0.0047 - val_loss: 4.9425 - val_acc: 0.0072\n",
      "Epoch 2/50\n",
      "1066/1067 [============================>.] - ETA: 0s - loss: 4.9619 - acc: 0.0038Epoch 00002: val_acc did not improve\n",
      "1067/1067 [==============================] - 37s 34ms/step - loss: 4.9618 - acc: 0.0037 - val_loss: 4.9434 - val_acc: 0.0072\n",
      "Epoch 3/50\n",
      "1066/1067 [============================>.] - ETA: 0s - loss: 4.9605 - acc: 0.0084Epoch 00003: val_acc improved from 0.00722 to 0.01444, saving model to saved_models/weights.best.benchmark.hdf5\n",
      "1067/1067 [==============================] - 37s 35ms/step - loss: 4.9606 - acc: 0.0084 - val_loss: 4.9392 - val_acc: 0.0144\n",
      "Epoch 4/50\n",
      "1063/1067 [============================>.] - ETA: 0s - loss: 4.9493 - acc: 0.0113Epoch 00004: val_acc did not improve\n",
      "1067/1067 [==============================] - 37s 35ms/step - loss: 4.9491 - acc: 0.0112 - val_loss: 4.9386 - val_acc: 0.0144\n",
      "Epoch 5/50\n",
      "1065/1067 [============================>.] - ETA: 0s - loss: 4.9362 - acc: 0.0122Epoch 00005: val_acc did not improve\n",
      "1067/1067 [==============================] - 37s 35ms/step - loss: 4.9363 - acc: 0.0122 - val_loss: 4.9063 - val_acc: 0.0108\n",
      "Epoch 6/50\n",
      "1064/1067 [============================>.] - ETA: 0s - loss: 4.9031 - acc: 0.0122Epoch 00006: val_acc did not improve\n",
      "1067/1067 [==============================] - 39s 37ms/step - loss: 4.9026 - acc: 0.0122 - val_loss: 4.8679 - val_acc: 0.0144\n",
      "Epoch 7/50\n",
      "1064/1067 [============================>.] - ETA: 0s - loss: 4.8103 - acc: 0.0160Epoch 00007: val_acc did not improve\n",
      "1067/1067 [==============================] - 38s 36ms/step - loss: 4.8099 - acc: 0.0159 - val_loss: 4.8140 - val_acc: 0.0144\n",
      "Epoch 8/50\n",
      "1064/1067 [============================>.] - ETA: 0s - loss: 4.6638 - acc: 0.0329Epoch 00008: val_acc improved from 0.01444 to 0.03610, saving model to saved_models/weights.best.benchmark.hdf5\n",
      "1067/1067 [==============================] - 37s 35ms/step - loss: 4.6600 - acc: 0.0328 - val_loss: 4.9910 - val_acc: 0.0361\n",
      "Epoch 9/50\n",
      "1066/1067 [============================>.] - ETA: 0s - loss: 4.4769 - acc: 0.0478Epoch 00009: val_acc improved from 0.03610 to 0.04332, saving model to saved_models/weights.best.benchmark.hdf5\n",
      "1067/1067 [==============================] - 37s 35ms/step - loss: 4.4770 - acc: 0.0478 - val_loss: 4.6758 - val_acc: 0.0433\n",
      "Epoch 10/50\n",
      "1066/1067 [============================>.] - ETA: 0s - loss: 4.2287 - acc: 0.0891Epoch 00010: val_acc improved from 0.04332 to 0.06137, saving model to saved_models/weights.best.benchmark.hdf5\n",
      "1067/1067 [==============================] - 37s 35ms/step - loss: 4.2285 - acc: 0.0890 - val_loss: 4.6178 - val_acc: 0.0614\n",
      "Epoch 11/50\n",
      "1063/1067 [============================>.] - ETA: 0s - loss: 3.9492 - acc: 0.1232Epoch 00011: val_acc improved from 0.06137 to 0.08303, saving model to saved_models/weights.best.benchmark.hdf5\n",
      "1067/1067 [==============================] - 36s 34ms/step - loss: 3.9461 - acc: 0.1237 - val_loss: 4.5351 - val_acc: 0.0830\n",
      "Epoch 12/50\n",
      "1066/1067 [============================>.] - ETA: 0s - loss: 3.6209 - acc: 0.1829Epoch 00012: val_acc improved from 0.08303 to 0.11552, saving model to saved_models/weights.best.benchmark.hdf5\n",
      "1067/1067 [==============================] - 37s 35ms/step - loss: 3.6202 - acc: 0.1828 - val_loss: 4.2966 - val_acc: 0.1155\n",
      "Epoch 13/50\n",
      "1064/1067 [============================>.] - ETA: 0s - loss: 3.2786 - acc: 0.2462Epoch 00013: val_acc improved from 0.11552 to 0.12996, saving model to saved_models/weights.best.benchmark.hdf5\n",
      "1067/1067 [==============================] - 38s 35ms/step - loss: 3.2821 - acc: 0.2455 - val_loss: 4.5310 - val_acc: 0.1300\n",
      "Epoch 14/50\n",
      "1066/1067 [============================>.] - ETA: 0s - loss: 2.8048 - acc: 0.3293Epoch 00014: val_acc improved from 0.12996 to 0.14440, saving model to saved_models/weights.best.benchmark.hdf5\n",
      "1067/1067 [==============================] - 37s 35ms/step - loss: 2.8042 - acc: 0.3290 - val_loss: 4.5405 - val_acc: 0.1444\n",
      "Epoch 15/50\n",
      "1066/1067 [============================>.] - ETA: 0s - loss: 2.3821 - acc: 0.4371Epoch 00015: val_acc improved from 0.14440 to 0.15162, saving model to saved_models/weights.best.benchmark.hdf5\n",
      "1067/1067 [==============================] - 37s 35ms/step - loss: 2.3817 - acc: 0.4377 - val_loss: 5.0128 - val_acc: 0.1516\n",
      "Epoch 16/50\n",
      "1066/1067 [============================>.] - ETA: 0s - loss: 1.9276 - acc: 0.5281- ETA: 1s - Epoch 00016: val_acc did not improve\n",
      "1067/1067 [==============================] - 37s 35ms/step - loss: 1.9262 - acc: 0.5286 - val_loss: 5.0531 - val_acc: 0.1444\n",
      "Epoch 17/50\n",
      "1066/1067 [============================>.] - ETA: 0s - loss: 1.6290 - acc: 0.5985Epoch 00017: val_acc improved from 0.15162 to 0.17329, saving model to saved_models/weights.best.benchmark.hdf5\n",
      "1067/1067 [==============================] - 37s 34ms/step - loss: 1.6276 - acc: 0.5989 - val_loss: 4.8047 - val_acc: 0.1733\n",
      "Epoch 18/50\n",
      "1065/1067 [============================>.] - ETA: 0s - loss: 1.2185 - acc: 0.6789Epoch 00018: val_acc did not improve\n",
      "1067/1067 [==============================] - 37s 35ms/step - loss: 1.2164 - acc: 0.6795 - val_loss: 5.2966 - val_acc: 0.1625\n",
      "Epoch 19/50\n",
      "1066/1067 [============================>.] - ETA: 0s - loss: 1.0665 - acc: 0.7251Epoch 00019: val_acc improved from 0.17329 to 0.18412, saving model to saved_models/weights.best.benchmark.hdf5\n",
      "1067/1067 [==============================] - 37s 34ms/step - loss: 1.0655 - acc: 0.7254 - val_loss: 6.1088 - val_acc: 0.1841\n",
      "Epoch 20/50\n",
      "1065/1067 [============================>.] - ETA: 0s - loss: 0.8234 - acc: 0.7878Epoch 00020: val_acc did not improve\n",
      "1067/1067 [==============================] - 37s 35ms/step - loss: 0.8256 - acc: 0.7873 - val_loss: 6.0363 - val_acc: 0.1841\n",
      "Epoch 21/50\n",
      "1066/1067 [============================>.] - ETA: 0s - loss: 0.7794 - acc: 0.8068Epoch 00021: val_acc did not improve\n",
      "1067/1067 [==============================] - 37s 35ms/step - loss: 0.7801 - acc: 0.8060 - val_loss: 6.4654 - val_acc: 0.1588\n",
      "Epoch 22/50\n",
      "1063/1067 [============================>.] - ETA: 0s - loss: 0.7163 - acc: 0.8203Epoch 00022: val_acc did not improve\n",
      "1067/1067 [==============================] - 37s 35ms/step - loss: 0.7227 - acc: 0.8201 - val_loss: 5.6342 - val_acc: 0.1805\n",
      "Epoch 23/50\n",
      "1066/1067 [============================>.] - ETA: 0s - loss: 0.6029 - acc: 0.8415Epoch 00023: val_acc improved from 0.18412 to 0.19856, saving model to saved_models/weights.best.benchmark.hdf5\n",
      "1067/1067 [==============================] - 37s 34ms/step - loss: 0.6024 - acc: 0.8416 - val_loss: 6.6556 - val_acc: 0.1986\n",
      "Epoch 24/50\n",
      "1063/1067 [============================>.] - ETA: 0s - loss: 0.6176 - acc: 0.8391Epoch 00024: val_acc did not improve\n",
      "1067/1067 [==============================] - 37s 35ms/step - loss: 0.6195 - acc: 0.8388 - val_loss: 6.9254 - val_acc: 0.1805\n",
      "Epoch 25/50\n",
      "1066/1067 [============================>.] - ETA: 0s - loss: 0.4689 - acc: 0.8743Epoch 00025: val_acc did not improve\n",
      "1067/1067 [==============================] - 37s 35ms/step - loss: 0.4836 - acc: 0.8735 - val_loss: 7.3966 - val_acc: 0.1913\n",
      "Epoch 26/50\n",
      "1065/1067 [============================>.] - ETA: 0s - loss: 0.4549 - acc: 0.8892Epoch 00026: val_acc did not improve\n",
      "1067/1067 [==============================] - 38s 36ms/step - loss: 0.4599 - acc: 0.8885 - val_loss: 7.8446 - val_acc: 0.1913\n",
      "Epoch 27/50\n",
      "1064/1067 [============================>.] - ETA: 0s - loss: 0.4425 - acc: 0.8966Epoch 00027: val_acc improved from 0.19856 to 0.20578, saving model to saved_models/weights.best.benchmark.hdf5\n",
      "1067/1067 [==============================] - 37s 35ms/step - loss: 0.4413 - acc: 0.8969 - val_loss: 7.9167 - val_acc: 0.2058\n",
      "Epoch 28/50\n",
      "1064/1067 [============================>.] - ETA: 0s - loss: 0.4018 - acc: 0.8929Epoch 00028: val_acc did not improve\n",
      "1067/1067 [==============================] - 37s 35ms/step - loss: 0.4051 - acc: 0.8922 - val_loss: 7.6838 - val_acc: 0.1769\n",
      "Epoch 29/50\n",
      "1063/1067 [============================>.] - ETA: 0s - loss: 0.4684 - acc: 0.8890Epoch 00029: val_acc did not improve\n",
      "1067/1067 [==============================] - 38s 35ms/step - loss: 0.4667 - acc: 0.8894 - val_loss: 7.5402 - val_acc: 0.1986\n",
      "Epoch 30/50\n",
      "1066/1067 [============================>.] - ETA: 0s - loss: 0.4156 - acc: 0.9062Epoch 00030: val_acc did not improve\n",
      "1067/1067 [==============================] - 36s 34ms/step - loss: 0.4153 - acc: 0.9063 - val_loss: 6.8167 - val_acc: 0.1625\n",
      "Epoch 31/50\n",
      "1063/1067 [============================>.] - ETA: 0s - loss: 0.4788 - acc: 0.8928Epoch 00031: val_acc improved from 0.20578 to 0.21661, saving model to saved_models/weights.best.benchmark.hdf5\n",
      "1067/1067 [==============================] - 37s 34ms/step - loss: 0.4770 - acc: 0.8932 - val_loss: 8.1782 - val_acc: 0.2166\n",
      "Epoch 32/50\n",
      "1065/1067 [============================>.] - ETA: 0s - loss: 0.3916 - acc: 0.9155Epoch 00032: val_acc did not improve\n",
      "1067/1067 [==============================] - 37s 34ms/step - loss: 0.3908 - acc: 0.9157 - val_loss: 7.5142 - val_acc: 0.1769\n",
      "Epoch 33/50\n",
      "1066/1067 [============================>.] - ETA: 0s - loss: 0.3260 - acc: 0.9278Epoch 00033: val_acc did not improve\n",
      "1067/1067 [==============================] - 37s 35ms/step - loss: 0.3257 - acc: 0.9278 - val_loss: 8.3413 - val_acc: 0.2058\n",
      "Epoch 34/50\n",
      "1065/1067 [============================>.] - ETA: 0s - loss: 0.3452 - acc: 0.9315Epoch 00034: val_acc did not improve\n",
      "1067/1067 [==============================] - 37s 35ms/step - loss: 0.3445 - acc: 0.9316 - val_loss: 8.1222 - val_acc: 0.1986\n",
      "Epoch 35/50\n",
      "1066/1067 [============================>.] - ETA: 0s - loss: 0.4272 - acc: 0.9203Epoch 00035: val_acc did not improve\n",
      "1067/1067 [==============================] - 37s 35ms/step - loss: 0.4268 - acc: 0.9203 - val_loss: 9.4517 - val_acc: 0.1986\n",
      "Epoch 36/50\n",
      "1066/1067 [============================>.] - ETA: 0s - loss: 0.5262 - acc: 0.8940Epoch 00036: val_acc did not improve\n",
      "1067/1067 [==============================] - 37s 34ms/step - loss: 0.5257 - acc: 0.8941 - val_loss: 7.6383 - val_acc: 0.1986\n",
      "Epoch 37/50\n",
      "1066/1067 [============================>.] - ETA: 0s - loss: 0.4105 - acc: 0.9231Epoch 00037: val_acc improved from 0.21661 to 0.23105, saving model to saved_models/weights.best.benchmark.hdf5\n",
      "1067/1067 [==============================] - 37s 35ms/step - loss: 0.4101 - acc: 0.9231 - val_loss: 8.7481 - val_acc: 0.2310\n",
      "Epoch 38/50\n",
      "1065/1067 [============================>.] - ETA: 0s - loss: 0.3858 - acc: 0.9183- ETA: 0s - loss: 0.3688 - acc:  - ETA: 0s - loss: 0.3662 - acc:Epoch 00038: val_acc did not improve\n",
      "1067/1067 [==============================] - 37s 34ms/step - loss: 0.3850 - acc: 0.9185 - val_loss: 7.8037 - val_acc: 0.2166\n",
      "Epoch 39/50\n",
      "1064/1067 [============================>.] - ETA: 0s - loss: 0.3918 - acc: 0.9211Epoch 00039: val_acc did not improve\n",
      "1067/1067 [==============================] - 37s 34ms/step - loss: 0.3949 - acc: 0.9203 - val_loss: 7.9268 - val_acc: 0.1697\n",
      "Epoch 40/50\n",
      "1064/1067 [============================>.] - ETA: 0s - loss: 0.4528 - acc: 0.9182Epoch 00040: val_acc did not improve\n",
      "1067/1067 [==============================] - 37s 35ms/step - loss: 0.4516 - acc: 0.9185 - val_loss: 8.5024 - val_acc: 0.2058\n",
      "Epoch 41/50\n",
      "1063/1067 [============================>.] - ETA: 0s - loss: 0.4201 - acc: 0.9219Epoch 00041: val_acc did not improve\n",
      "1067/1067 [==============================] - 37s 35ms/step - loss: 0.4264 - acc: 0.9213 - val_loss: 9.6387 - val_acc: 0.1841\n",
      "Epoch 42/50\n",
      "1064/1067 [============================>.] - ETA: 0s - loss: 0.3561 - acc: 0.9258Epoch 00042: val_acc did not improve\n",
      "1067/1067 [==============================] - 37s 34ms/step - loss: 0.3551 - acc: 0.9260 - val_loss: 9.3119 - val_acc: 0.2094\n",
      "Epoch 43/50\n",
      "1066/1067 [============================>.] - ETA: 0s - loss: 0.3258 - acc: 0.9268Epoch 00043: val_acc did not improve\n",
      "1067/1067 [==============================] - 37s 34ms/step - loss: 0.3255 - acc: 0.9269 - val_loss: 8.6407 - val_acc: 0.2238\n",
      "Epoch 44/50\n",
      "1066/1067 [============================>.] - ETA: 0s - loss: 0.3034 - acc: 0.9306Epoch 00044: val_acc did not improve\n",
      "1067/1067 [==============================] - 37s 35ms/step - loss: 0.3031 - acc: 0.9306 - val_loss: 8.3100 - val_acc: 0.2130\n",
      "Epoch 45/50\n",
      "1065/1067 [============================>.] - ETA: 0s - loss: 0.4529 - acc: 0.9277Epoch 00045: val_acc improved from 0.23105 to 0.23827, saving model to saved_models/weights.best.benchmark.hdf5\n",
      "1067/1067 [==============================] - 37s 34ms/step - loss: 0.4521 - acc: 0.9278 - val_loss: 8.4895 - val_acc: 0.2383\n",
      "Epoch 46/50\n",
      "1064/1067 [============================>.] - ETA: 0s - loss: 0.3170 - acc: 0.9295Epoch 00046: val_acc did not improve\n",
      "1067/1067 [==============================] - 37s 35ms/step - loss: 0.3162 - acc: 0.9297 - val_loss: 9.2503 - val_acc: 0.1949\n",
      "Epoch 47/50\n",
      "1066/1067 [============================>.] - ETA: 0s - loss: 0.2970 - acc: 0.9447Epoch 00047: val_acc improved from 0.23827 to 0.25993, saving model to saved_models/weights.best.benchmark.hdf5\n",
      "1067/1067 [==============================] - 37s 35ms/step - loss: 0.2967 - acc: 0.9447 - val_loss: 8.7579 - val_acc: 0.2599\n",
      "Epoch 48/50\n",
      "1065/1067 [============================>.] - ETA: 0s - loss: 0.2867 - acc: 0.9493Epoch 00048: val_acc did not improve\n",
      "1067/1067 [==============================] - 37s 35ms/step - loss: 0.2866 - acc: 0.9494 - val_loss: 8.4888 - val_acc: 0.2383\n",
      "Epoch 49/50\n",
      "1066/1067 [============================>.] - ETA: 0s - loss: 0.4074 - acc: 0.9371Epoch 00049: val_acc did not improve\n",
      "1067/1067 [==============================] - 37s 34ms/step - loss: 0.4070 - acc: 0.9372 - val_loss: 8.1746 - val_acc: 0.1841\n",
      "Epoch 50/50\n",
      "1064/1067 [============================>.] - ETA: 0s - loss: 0.3163 - acc: 0.9361Epoch 00050: val_acc did not improve\n",
      "1067/1067 [==============================] - 37s 35ms/step - loss: 0.3154 - acc: 0.9363 - val_loss: 9.4143 - val_acc: 0.2274\n"
     ]
    }
   ],
   "source": [
    "from keras.callbacks import ModelCheckpoint \n",
    "#Create checkpoint file to use for testing test data\n",
    "callback_file = ModelCheckpoint(filepath='saved_models/weights.best.benchmark.hdf5',monitor='val_acc',verbose=1,save_best_only=True)\n",
    "#Run model for 50 epochs\n",
    "epoch_graph = model.fit_generator(train_generator,epochs=50,steps_per_epoch= 1067,validation_data=validation_generator,validation_steps=277,callbacks=[callback_file])\n",
    "\n"
   ]
  },
  {
   "cell_type": "markdown",
   "metadata": {},
   "source": [
    "<font size=\"5\">When did the model accuracy plateu?</font>"
   ]
  },
  {
   "cell_type": "code",
   "execution_count": 9,
   "metadata": {},
   "outputs": [
    {
     "data": {
      "image/png": "[encoded data removed]",
      "text/plain": [
       "<matplotlib.figure.Figure at 0x7efc27680278>"
      ]
     },
     "metadata": {
      "needs_background": "light"
     },
     "output_type": "display_data"
    }
   ],
   "source": [
    "import matplotlib.pyplot as plt\n",
    "%matplotlib inline\n",
    "fig, ax = plt.subplots()\n",
    "plt.plot(epoch_graph.history['acc'])\n",
    "plt.plot(epoch_graph.history['val_acc'])\n",
    "plt.title('Model accuracy')\n",
    "plt.ylabel('Accuracy')\n",
    "plt.xlabel('Epoch')\n",
    "plt.legend(['Train', 'Validation'], loc='upper left')\n",
    "plt.show()"
   ]
  },
  {
   "cell_type": "markdown",
   "metadata": {},
   "source": [
    "<font size=\"5\">Test the accuracy using the test data</font>"
   ]
  },
  {
   "cell_type": "code",
   "execution_count": 10,
   "metadata": {},
   "outputs": [],
   "source": [
    "#Loading the best checkpoint weight file\n",
    "model.load_weights('saved_models/weights.best.benchmark.hdf5')"
   ]
  },
  {
   "cell_type": "code",
   "execution_count": 11,
   "metadata": {},
   "outputs": [
    {
     "name": "stdout",
     "output_type": "stream",
     "text": [
      "The accuracy for the benchmark model is:  28.5714285714 %\n"
     ]
    }
   ],
   "source": [
    "acc = model.evaluate_generator(test_generator, 140)[1]\n",
    "\n",
    "print(\"The accuracy for the benchmark model is: \",acc*100, \"%\")"
   ]
  }
 ],
 "metadata": {
  "anaconda-cloud": {},
  "kernelspec": {
   "display_name": "Python 3",
   "language": "python",
   "name": "python3"
  },
  "language_info": {
   "codemirror_mode": {
    "name": "ipython",
    "version": 3
   },
   "file_extension": ".py",
   "mimetype": "text/x-python",
   "name": "python",
   "nbconvert_exporter": "python",
   "pygments_lexer": "ipython3",
   "version": "3.6.3"
  }
 },
 "nbformat": 4,
 "nbformat_minor": 1
}
